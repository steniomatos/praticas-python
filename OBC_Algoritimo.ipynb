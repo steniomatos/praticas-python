{
  "nbformat": 4,
  "nbformat_minor": 0,
  "metadata": {
    "colab": {
      "provenance": [],
      "authorship_tag": "ABX9TyOum/dKibx51xMnC9gDKLPu",
      "include_colab_link": true
    },
    "kernelspec": {
      "name": "python3",
      "display_name": "Python 3"
    },
    "language_info": {
      "name": "python"
    }
  },
  "cells": [
    {
      "cell_type": "markdown",
      "metadata": {
        "id": "view-in-github",
        "colab_type": "text"
      },
      "source": [
        "<a href=\"https://colab.research.google.com/github/steniomatos/praticas-python/blob/main/OBC_Algoritimo.ipynb\" target=\"_parent\"><img src=\"https://colab.research.google.com/assets/colab-badge.svg\" alt=\"Open In Colab\"/></a>"
      ]
    },
    {
      "cell_type": "markdown",
      "source": [
        "OBC"
      ],
      "metadata": {
        "id": "5P8_r-oaghaP"
      }
    },
    {
      "cell_type": "markdown",
      "source": [
        "\n",
        "**REQ-0883065 C - Relacionado ao calculo da distancia**\n"
      ],
      "metadata": {
        "id": "Iyt0mLyjgoaV"
      }
    },
    {
      "cell_type": "code",
      "execution_count": 2,
      "metadata": {
        "colab": {
          "base_uri": "https://localhost:8080/"
        },
        "id": "iAsqVc68gfkS",
        "outputId": "25ac7644-5645-4847-985b-58da0f592fb4"
      },
      "outputs": [
        {
          "output_type": "stream",
          "name": "stdout",
          "text": [
            "Odometer: 2000\n",
            "entrou if\n",
            "DAT_DG_DISTANCE_AFE_MEM:  2000.0\n",
            "Odometer: 3000\n",
            "entrou if\n",
            "DAT_DG_DISTANCE_AFE_MEM:  3000.0\n"
          ]
        }
      ],
      "source": [
        "#inicializando variaveis:\n",
        "VAR_OLD_DISTANCE_VALUE_AFE = 0\n",
        "VAR_NEW_AFE_DISTANCE_WHEEL = 0\n",
        "VAR_INCREASING_DISTANCE_VALUE_AFE = 0\n",
        "DAT_DG_DISTANCE_AFE_MEM = 0\n",
        "VAR_OLD_DISTANCE = 0\n",
        "DAT_DG_MAX_DISTANCE_THRESHOLD = 6553.5\n",
        "n = 3\n",
        "MUDANCA_ECU = 0\n",
        "#REQ-0883065 C\n",
        "\n",
        "#em caso de mudança de ECU\n",
        "if MUDANCA_ECU == 1:\n",
        "  VAR_NEW_AFE_DISTANCE_WHEEL = DAT_LI_ODOMETER\n",
        "  VAR_OLD_DISTANCE_VALUE_AFE = DAT_LI_ODOMETER\n",
        "  VAR_INCREASING_DISTANCE_VALUE_AFE = 0\n",
        "\n",
        "else:\n",
        "\n",
        "  for i in range(2):\n",
        "    DAT_LI_ODOMETER = float(input(\"Odometer: \"))\n",
        "    VAR_NEW_AFE_DISTANCE_WHEEL = DAT_LI_ODOMETER\n",
        "    #VAR_NEW_AFE_DISTANCE_WHELL = 100\n",
        "\n",
        "    if VAR_OLD_DISTANCE <= VAR_NEW_AFE_DISTANCE_WHEEL:\n",
        "    # 0 < 100\n",
        "          print(\"entrou if\")\n",
        "          VAR_INCREASING_DISTANCE_VALUE_AFE = VAR_NEW_AFE_DISTANCE_WHEEL - VAR_OLD_DISTANCE_VALUE_AFE\n",
        "          #100 = 100 - 0\n",
        "    else:\n",
        "          print(\"entrou else\")\n",
        "          print(VAR_OLD_DISTANCE_VALUE_AFE)\n",
        "          VAR_INCREASING_DISTANCE_VALUE_AFE = DAT_DG_MAX_DISTANCE_THRESHOLD - VAR_OLD_DISTANCE_VALUE_AFE + VAR_NEW_AFE_DISTANCE_WHEEL\n",
        "\n",
        "    VAR_OLD_DISTANCE_VALUE_AFE = VAR_NEW_AFE_DISTANCE_WHEEL\n",
        "    #VAR_OLD_DISTANCE_VALUE_AFE = 100\n",
        "    DAT_DG_DISTANCE_AFE_MEM = DAT_DG_DISTANCE_AFE_MEM + VAR_INCREASING_DISTANCE_VALUE_AFE\n",
        "    #DAT_DG_DISTANCE_AFE_MEM = 100\n",
        "\n",
        "  print(\"DAT_DG_DISTANCE_AFE_MEM: \", DAT_DG_DISTANCE_AFE_MEM)"
      ]
    },
    {
      "cell_type": "markdown",
      "source": [
        "**REQ-0883066 C - Calculo de quantidade de gasolina**"
      ],
      "metadata": {
        "id": "dWcmXUnKzvnv"
      }
    },
    {
      "cell_type": "code",
      "source": [
        "#declaracoes\n",
        "DAT_DG_MAX_CONSUM_THRESHOLD = 20400\n",
        "VAR_INITIAL_FUEL_QUANTITY = 0\n",
        "DAT_DG_FUEL_CONSUMPTION_MEM = 0\n",
        "\n",
        "if (MUDANCA_ECU == 1):\n",
        "  VAR_AFE_FUEL_QUANTITY = DAT_LI_GAUGE_FUEL_CONSUMPTION\n",
        "  VAR_INITIAL_FUEL_QUANTITY = DAT_LI_GAUGE_FUEL_CONSUMPTION\n",
        "  VAR_INCREASING_FUEL_AFE_VALUE = 0\n",
        "\n",
        "else:\n",
        "#inputs\n",
        "  DAT_LI_GAUGE_FUEL_CONSUMPTION = float(input(\"Valor fuel consumption: \"))\n",
        "\n",
        "  VAR_AFE_FUEL_QUANTITY = DAT_LI_GAUGE_FUEL_CONSUMPTION\n",
        "\n",
        "  if VAR_INITIAL_FUEL_QUANTITY < VAR_AFE_FUEL_QUANTITY:\n",
        "    VAR_INCREASING_FUEL_AFE_VALUE = VAR_AFE_FUEL_QUANTITY - VAR_INITIAL_FUEL_QUANTITY\n",
        "\n",
        "  else:\n",
        "    VAR_INCREASING_FUEL_AFE_VALUE = DAT_DG_MAX_CONSUM_THRESHOLD - VAR_INITIAL_FUEL_QUANTITY + VAR_AFE_FUEL_QUANTITY\n",
        "\n",
        "  VAR_INITIAL_FUEL_QUANTITY = VAR_AFE_FUEL_QUANTITY\n",
        "  DAT_DG_FUEL_CONSUMPTION_MEM += VAR_INCREASING_FUEL_AFE_VALUE\n",
        "\n",
        "#prints\n",
        "print((\"VAR_INITIAL_FUEL_QUANTITY\"), VAR_INITIAL_FUEL_QUANTITY)\n",
        "print((\"DAT_DG_FUEL_CONSUMPTION_MEM\"), DAT_DG_FUEL_CONSUMPTION_MEM)"
      ],
      "metadata": {
        "colab": {
          "base_uri": "https://localhost:8080/"
        },
        "id": "E6MfQm94zs2j",
        "outputId": "b7140b91-ff4b-420e-d46c-f6c740a93d90"
      },
      "execution_count": null,
      "outputs": [
        {
          "output_type": "stream",
          "name": "stdout",
          "text": [
            "Valor fuel consumption: 200\n",
            "VAR_INITIAL_FUEL_QUANTITY 200.0\n",
            "DAT_DG_FUEL_CONSUMPTION_MEM 200.0\n"
          ]
        }
      ]
    },
    {
      "cell_type": "markdown",
      "source": [
        "**REQ-0883067 C - O limiar do AFE é gerenciado abaixo**\n",
        "\n",
        "AFE = average fuel eficience"
      ],
      "metadata": {
        "id": "zHjx488mBAk5"
      }
    },
    {
      "cell_type": "code",
      "source": [
        "#declaracoes\n",
        "VAR_OLD_THRESHOLD_AFE = 0\n",
        "VAR_DISTANCE_AFE = 0\n",
        "DAT_DG_MAX_DISTANCE_THRESHOLD = 6553.5\n",
        "\n",
        "if (MUDANCA_ECU== 1):\n",
        "  VAR_NEW_THRESHOLD_AFE = DAT_LI_ODOMETER\n",
        "  VAR_OLD_THRESHOLD_AFE = DAT_LI_ODOMETER\n",
        "  VAR_INCREASING_AFE = 0\n",
        "  VAR_DISTANCE_AFE = 0\n",
        "\n",
        "else:\n",
        "\n",
        "  #inputs\n",
        "  for i in range(7):\n",
        "    DAT_LI_ODOMETER = float(input(\"Valor odometer: \"))\n",
        "\n",
        "    #REQ-0883067\n",
        "    VAR_NEW_THRESHOLD_AFE = DAT_LI_ODOMETER\n",
        "\n",
        "    if VAR_OLD_THRESHOLD_AFE <= VAR_NEW_THRESHOLD_AFE:\n",
        "      print(\"entrou if\")\n",
        "      VAR_INCREASING_AFE = VAR_NEW_THRESHOLD_AFE - VAR_OLD_THRESHOLD_AFE\n",
        "    else:\n",
        "      print(\"entrou else\")\n",
        "      VAR_INCREASING_AFE = DAT_DG_MAX_DISTANCE_THRESHOLD - VAR_OLD_THRESHOLD_AFE + VAR_NEW_THRESHOLD_AFE\n",
        "\n",
        "    VAR_OLD_THRESHOLD_AFE = VAR_NEW_THRESHOLD_AFE\n",
        "    VAR_DISTANCE_AFE = VAR_DISTANCE_AFE + VAR_INCREASING_AFE\n",
        "\n",
        "  #print\n",
        "  print((\"VAR_OLD_THRESHOLD_AFE\"), VAR_OLD_THRESHOLD_AFE)\n",
        "  print((\"VAR_DISTANCE_AFE\"), VAR_DISTANCE_AFE)"
      ],
      "metadata": {
        "id": "8GY8ZTy-Il2m",
        "colab": {
          "base_uri": "https://localhost:8080/"
        },
        "outputId": "8982ee6a-af5a-421b-af19-c8e4960b2fba"
      },
      "execution_count": null,
      "outputs": [
        {
          "output_type": "stream",
          "name": "stdout",
          "text": [
            "Valor odometer: 10\n",
            "entrou if\n",
            "VAR_OLD_THRESHOLD_AFE 10.0\n",
            "VAR_DISTANCE_AFE 10.0\n",
            "Valor odometer: 20\n",
            "entrou if\n",
            "VAR_OLD_THRESHOLD_AFE 20.0\n",
            "VAR_DISTANCE_AFE 20.0\n",
            "Valor odometer: 30\n",
            "entrou if\n",
            "VAR_OLD_THRESHOLD_AFE 30.0\n",
            "VAR_DISTANCE_AFE 30.0\n",
            "Valor odometer: 40\n",
            "entrou if\n",
            "VAR_OLD_THRESHOLD_AFE 40.0\n",
            "VAR_DISTANCE_AFE 40.0\n",
            "Valor odometer: 50\n",
            "entrou if\n",
            "VAR_OLD_THRESHOLD_AFE 50.0\n",
            "VAR_DISTANCE_AFE 50.0\n",
            "Valor odometer: 50\n",
            "entrou else\n",
            "VAR_OLD_THRESHOLD_AFE 50.0\n",
            "VAR_DISTANCE_AFE 6603.5\n",
            "Valor odometer: 80\n",
            "entrou if\n",
            "VAR_OLD_THRESHOLD_AFE 80.0\n",
            "VAR_DISTANCE_AFE 6633.5\n"
          ]
        }
      ]
    },
    {
      "cell_type": "markdown",
      "source": [
        "**REQ-0883068 C - O calculo de AFE é gerenciado abaixo**"
      ],
      "metadata": {
        "id": "wOAzfzb7KSgH"
      }
    },
    {
      "cell_type": "markdown",
      "source": [
        "![image.png](data:image/png;base64,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)"
      ],
      "metadata": {
        "id": "sX16-WE_v2yN"
      }
    },
    {
      "cell_type": "code",
      "source": [
        "#REQ-0883068 C\n",
        "\n",
        "#declarations\n",
        "VAR_THRESHOLD_AFE = 100\n",
        "MEM_DAT_DG_FUEL_CONSUMPTION = 999920\n",
        "MEM_DAT_DG_DISTANCE_AFE = 60000\n",
        "#DAT_DG_DISTANCE_AFE_MEM armazena valores provenientes do DAT_LI_ODOMETER (REQ-0883065 B)\n",
        "#DAT_DG_FUEL_CONSUMPTION_MEM armazena valores provenientes do DAT_LI_GAUGE_FUEL_CONSUMPTION (REQ-0883066 B)\n",
        "\n",
        "DAT_LI_ODOMETER = float(input(\"valor odometer: \")) #metros\n",
        "DAT_LI_GAUGE_FUEL_CONSUMPTION = float(input(\"valor gauge fuel consumption: (Scale 80)\"))\n",
        "\n",
        "MEM_DAT_DG_DISTANCE_AFE += (DAT_LI_ODOMETER*10) #respeitando a escala\n",
        "MEM_DAT_DG_FUEL_CONSUMPTION += DAT_LI_GAUGE_FUEL_CONSUMPTION\n",
        "\n",
        "print((\"DAT_DG_DISTANCE_AFE_MEM\"),MEM_DAT_DG_DISTANCE_AFE)\n",
        "print((\"DAT_DG_FUEL_CONSUMPTION_MEM\"),MEM_DAT_DG_FUEL_CONSUMPTION)\n",
        "\n",
        "VAR_AVERAGE_FUEL_EFFICIENCY = ((MEM_DAT_DG_FUEL_CONSUMPTION*10**-3)/(MEM_DAT_DG_DISTANCE_AFE/10)*100) #l/100km\n",
        "\n",
        "print(VAR_AVERAGE_FUEL_EFFICIENCY)\n"
      ],
      "metadata": {
        "colab": {
          "base_uri": "https://localhost:8080/"
        },
        "id": "o_Hvt255vmlF",
        "outputId": "257e3a02-bb5c-4cc0-d0a6-fda7ef95ae24"
      },
      "execution_count": 12,
      "outputs": [
        {
          "output_type": "stream",
          "name": "stdout",
          "text": [
            "valor odometer: 6000\n",
            "valor gauge fuel consumption: (Scale 80)80\n",
            "DAT_DG_DISTANCE_AFE_MEM 120000.0\n",
            "DAT_DG_FUEL_CONSUMPTION_MEM 1000000.0\n",
            "8.333333333333332\n"
          ]
        }
      ]
    },
    {
      "cell_type": "markdown",
      "source": [
        "**REQ-0883175 B - em caso de overflow, o AFE é gerenciado abaixo**\n"
      ],
      "metadata": {
        "id": "zJRzKxynoOns"
      }
    },
    {
      "cell_type": "code",
      "source": [
        "#Declarações\n",
        "\n",
        "#CALCULATION 1\n",
        "\n",
        "DAT_DG_CONSUMPTION_OVERFLOW = 1326000\n",
        "DAT_DG_DISTANCE_OVERFLOW = 12451,7\n",
        "DAT_DG_DISTANCE_AFE_MEM= 0\n",
        "\n",
        "DAT_DG_FUEL_CONSUMPTION_MEM = float(input(\"Valor fuel consumption: \"))\n",
        "\n",
        "if DAT_DG_FUEL_CONSUMPTION_MEM >= DAT_DG_CONSUMPTION_OVERFLOW or DAT_DG_DISTANCE_AFE_MEM >= DAT_DG_DISTANCE_OVERFLOW:\n",
        "  DAT_DG_FUEL_CONSUMPTION_MEM = DAT_DG_FUEL_CONSUMPTION_MEM/2\n",
        "  DAT_DG_DISTANCE_AFE_MEM = DAT_DG_DISTANCE_AFE_MEM/2\n",
        "\n",
        "  print((\"DAT_DG_FUEL_CONSUMPTION_MEM\"),DAT_DG_FUEL_CONSUMPTION_MEM)\n",
        "  print((\"DAT_DG_DISTANCE_AFE_MEM\"),DAT_DG_DISTANCE_AFE_MEM)"
      ],
      "metadata": {
        "id": "Y2GvldBBKobq",
        "colab": {
          "base_uri": "https://localhost:8080/"
        },
        "outputId": "7a06e18e-dd3a-42a3-891f-cc140a429853"
      },
      "execution_count": null,
      "outputs": [
        {
          "output_type": "stream",
          "name": "stdout",
          "text": [
            "Valor fuel consumption: 1326000\n",
            "DAT_DG_FUEL_CONSUMPTION_MEM 663000.0\n",
            "DAT_DG_DISTANCE_AFE_MEM 0.0\n"
          ]
        }
      ]
    },
    {
      "cell_type": "markdown",
      "source": [
        "# REQ-0883246 A\n",
        "The AFE calculation in case of overflow is managed as below:"
      ],
      "metadata": {
        "id": "qPN4MJqA_iC1"
      }
    },
    {
      "cell_type": "code",
      "source": [
        "calculation2 = 1\n",
        "DAT_DG_DISTANCE_TO_EMPTY_CALCUL = 1\n",
        "DAT_DG_THRESHOLD_RESET_DISTANCE = 322\n",
        "DAT_DG_THRESHOLD_RST_FUEL_USED = 38\n",
        "DAT_DG_FUEL_CONSUMPTION_MEM =100\n",
        "\n",
        "\n",
        "if (DAT_DG_DISTANCE_TO_EMPTY_CALCUL == calculation2 and\n",
        "    DAT_DG_DISTANCE_AFE_MEM > DAT_DG_THRESHOLD_RESET_DISTANCE and\n",
        "    DAT_DG_FUEL_CONSUMPTION_MEM > DAT_DG_THRESHOLD_RST_FUEL_USED):\n",
        "\n",
        "  DAT_DG_FUEL_CONSUMPTION_MEM = DAT_DG_FUEL_CONSUMPTION_MEM /2\n",
        "  DAT_DG_DISTANCE_AFE_MEM = DAT_DG_DISTANCE_AFE_MEM /2\n"
      ],
      "metadata": {
        "id": "k8NA7fSU_rSx"
      },
      "execution_count": 5,
      "outputs": []
    },
    {
      "cell_type": "markdown",
      "source": [
        "# DTE TYPE 1\n",
        "## REQ-0883203 B"
      ],
      "metadata": {
        "id": "OjYNXvocCbWG"
      }
    },
    {
      "cell_type": "code",
      "source": [
        "DAT_DG_DISTANCE_TO_EMPTY_CALCUL = 2\n",
        "#RESPONSÁVEL PELA INICIALIZAÇÃO\n",
        "# se mudança de ECU\n",
        "VAR_NEW_THRESHOLD_DTE = DAT_LI_ODOMETER\n",
        "VAR_OLD_THRESHOLD_DTE = DAT_LI_ODOMETER"
      ],
      "metadata": {
        "id": "rqa6LB4BDKaI"
      },
      "execution_count": null,
      "outputs": []
    },
    {
      "cell_type": "markdown",
      "source": [
        "# **Distance to empty**\n",
        "\n",
        "**REQ-0883167 C - O limiar para disparar DTE**\n",
        "\n",
        "Pode ser um aviso que emite sobre quanto tempo falta (kilometragem) para acabar a gasolina"
      ],
      "metadata": {
        "id": "jODizpg5uPXo"
      }
    },
    {
      "cell_type": "code",
      "source": [
        "#Declarações:\n",
        "VAR_OLD_THRESHOLD_DTE = 10\n",
        "VAR_INCREASING_DTE_DISTANCE = 0\n",
        "VAR_DISTANCE_DTE = 0\n",
        "\n",
        "#INTER_ECU_STATE changes value from (READY or ACC or IGN_OFF) to ENGINE_RUNNING:\n",
        "\n",
        "DAT_LI_ODOMETER = float(input(\"Valor odometer: \"))\n",
        "\n",
        "VAR_NEW_THRESHOLD_DTE = DAT_LI_ODOMETER\n",
        "\n",
        "if VAR_OLD_THRESHOLD_DTE <= VAR_NEW_THRESHOLD_DTE:\n",
        "  VAR_INCREASING_DTE_DISTANCE = VAR_NEW_THRESHOLD_DTE - VAR_OLD_THRESHOLD_DTE\n",
        "\n",
        "else:\n",
        "  VAR_INCREASING_DTE_DISTANCE = DAT_DG_MAX_DISTANCE_THRESHOLD - VAR_OLD_THRESHOLD_DTE + VAR_NEW_THRESHOLD_DTE\n",
        "\n",
        "\n",
        "VAR_OLD_THRESHOLD_DTE = VAR_NEW_THRESHOLD_DTE\n",
        "VAR_DISTANCE_DTE += VAR_INCREASING_DTE_DISTANCE\n",
        "\n",
        "print((\"VAR_OLD_THRESHOLD_DTE\"),VAR_OLD_THRESHOLD_DTE)\n",
        "print((\"VAR_DISTANCE_DTE\"),VAR_DISTANCE_DTE)\n"
      ],
      "metadata": {
        "colab": {
          "base_uri": "https://localhost:8080/"
        },
        "id": "uw4qA4u_v42F",
        "outputId": "907aaa8d-0cbf-4e6e-92fe-5d2319c2983a"
      },
      "execution_count": 10,
      "outputs": [
        {
          "output_type": "stream",
          "name": "stdout",
          "text": [
            "Valor odometer: 100\n",
            "VAR_OLD_THRESHOLD_DTE 100.0\n",
            "VAR_DISTANCE_DTE 90.0\n"
          ]
        }
      ]
    },
    {
      "cell_type": "markdown",
      "source": [
        "Onde se encontra o VAR_OLD_THRESHOLD_DTE? Em nenhum requisito é implementado alguma atribuição a ele"
      ],
      "metadata": {
        "id": "g4ctF9vFwz_T"
      }
    },
    {
      "cell_type": "markdown",
      "source": [
        "**REQ-0883070 A - A função DTE é gerenciada abaixo**"
      ],
      "metadata": {
        "id": "BS0ZZdiSzOns"
      }
    },
    {
      "cell_type": "markdown",
      "source": [
        "![image.png](data:image/png;base64,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)"
      ],
      "metadata": {
        "id": "FpXCw-C_c-s3"
      }
    },
    {
      "cell_type": "markdown",
      "source": [
        "**REQ-0883070 C - O valor distance para vazio é gerenciado abaixo**"
      ],
      "metadata": {
        "id": "w0WTTvyQzkkx"
      }
    },
    {
      "cell_type": "code",
      "source": [
        "#REQ-0883070 B\n",
        "INTER_GAUGE_FUEL_VOLUME = int(input(\"Fuel Volume: \"))\n",
        "\n",
        "if INTER_GAUGE_FUEL_VOLUME > 3:\n",
        "  INTER_DISTANCE_TO_EMPTY = (INTER_GAUGE_FUEL_VOLUME)*100/VAR_AVERAGE_FUEL_EFFICIENCY\n",
        "\n",
        "print(INTER_DISTANCE_TO_EMPTY)"
      ],
      "metadata": {
        "id": "jG46lQ8rzj9s",
        "colab": {
          "base_uri": "https://localhost:8080/"
        },
        "outputId": "fcf81fd5-2a3f-44a0-e377-ffc5ce4151fc"
      },
      "execution_count": 13,
      "outputs": [
        {
          "output_type": "stream",
          "name": "stdout",
          "text": [
            "Fuel Volume: 5\n",
            "60.00000000000001\n"
          ]
        }
      ]
    },
    {
      "cell_type": "markdown",
      "source": [
        "# REQ-0883071 C - change of unity"
      ],
      "metadata": {
        "id": "dvtQwM97V6T6"
      }
    },
    {
      "cell_type": "code",
      "source": [
        "# Recebendo a entrada do usuário\n",
        "ORD_Settings_DISTANCE_UNIT = input(\"Digite a unidade de distância (km ou mi): \").lower()\n",
        "\n",
        "# A lógica do 'if'\n",
        "if ORD_Settings_DISTANCE_UNIT == 'km':\n",
        "    INFO_DISTANCE_TO_EMPTY = INTER_DISTANCE_TO_EMPTY\n",
        "elif ORD_Settings_DISTANCE_UNIT == 'mi':\n",
        "    INFO_DISTANCE_TO_EMPTY = INTER_DISTANCE_TO_EMPTY / 1.609\n",
        "else:\n",
        "    INFO_DISTANCE_TO_EMPTY = None\n",
        "    print(\"Unidade inválida! Por favor, digite 'km' ou 'mi'.\")\n",
        "\n",
        "# Exibir o resultado se a unidade for válida\n",
        "if INFO_DISTANCE_TO_EMPTY is not None:\n",
        "    print(\"A distância até empty é:\", INFO_DISTANCE_TO_EMPTY)"
      ],
      "metadata": {
        "colab": {
          "base_uri": "https://localhost:8080/"
        },
        "id": "TdqylEoCWJGS",
        "outputId": "f000afaf-16fc-4b2f-a734-67d890a81c15"
      },
      "execution_count": 15,
      "outputs": [
        {
          "output_type": "stream",
          "name": "stdout",
          "text": [
            "Digite a unidade de distância (km ou mi): mi\n",
            "A distância até empty é: 37.29024238657552\n"
          ]
        }
      ]
    },
    {
      "cell_type": "markdown",
      "source": [
        "## REQ-0883243 A"
      ],
      "metadata": {
        "id": "1-wn2reAHKje"
      }
    },
    {
      "cell_type": "code",
      "source": [
        "VAR_NEW_IFE_DISTANCE = DAT_LI_ODOMETER\n",
        "VAR_OLD_IFE_DISTANCE = 100\n",
        "DAT_DG_MEM_DISTANCE_IFE = 0\n",
        "\n",
        "if VAR_OLD_IFE_DISTANCE <= VAR_NEW_IFE_DISTANCE:\n",
        "  VAR_INCREASING_DISTANCE_IFE = VAR_NEW_IFE_DISTANCE - VAR_OLD_IFE_DISTANCE\n",
        "else:\n",
        "  VAR_INCREASING_DISTANCE_IFE = DAT_DG_MAX_DISTANCE_THRESHOLD - VAR_OLD_IFE_DISTANCE + VAR_NEW_IFE_DISTANCE\n",
        "\n",
        "VAR_OLD_IFE_DISTANCE = VAR_NEW_IFE_DISTANCE\n",
        "DAT_DG_MEM_DISTANCE_IFE = DAT_DG_MEM_DISTANCE_IFE + VAR_INCREASING_DISTANCE_IFE\n",
        "\n",
        "print(DAT_DG_MEM_DISTANCE_IFE)\n"
      ],
      "metadata": {
        "colab": {
          "base_uri": "https://localhost:8080/"
        },
        "id": "GDeSen4WHRd1",
        "outputId": "90fd0756-71a5-48a4-de55-3699f1f868ff"
      },
      "execution_count": 18,
      "outputs": [
        {
          "output_type": "stream",
          "name": "stdout",
          "text": [
            "5900.0\n"
          ]
        }
      ]
    },
    {
      "cell_type": "markdown",
      "source": [
        "## REQ-0883244 A"
      ],
      "metadata": {
        "id": "FPI6TNT-I2kh"
      }
    },
    {
      "cell_type": "code",
      "source": [
        "VAR_NEW_IFE_FUEL_QUANTITY = DAT_LI_GAUGE_FUEL_CONSUMPTION\n",
        "VAR_OLD_FUEL_QUANTITY = 80\n",
        "DAT_DG_FUEL_CONSUMPTION_MEM_IFE = 0\n",
        "\n",
        "if VAR_OLD_FUEL_QUANTITY <= VAR_NEW_IFE_FUEL_QUANTITY:\n",
        "  VAR_INCREASING_FUEL_QUANTITY_IFE = VAR_NEW_IFE_FUEL_QUANTITY - VAR_OLD_FUEL_QUANTITY\n",
        "\n",
        "else:\n",
        "  VAR_INCREASING_FUEL_QUANTITY_IFE = DAT_DG_MAX_CONSUM_THRESHOLD - VAR_OLD_FUEL_QUANTITY + VAR_NEW_IFE_FUEL_QUANTITY\n",
        "\n",
        "VAR_OLD_FUEL_QUANTITY = VAR_NEW_IFE_FUEL_QUANTITY\n",
        "DAT_DG_FUEL_CONSUMPTION_MEM_IFE = DAT_DG_FUEL_CONSUMPTION_MEM_IFE +   VAR_INCREASING_FUEL_QUANTITY_IFE\n"
      ],
      "metadata": {
        "id": "_aR_KWtMKZbb"
      },
      "execution_count": 20,
      "outputs": []
    },
    {
      "cell_type": "markdown",
      "source": [
        "## REQ-0883245 A"
      ],
      "metadata": {
        "id": "gbBJ00hxcr3z"
      }
    },
    {
      "cell_type": "code",
      "source": [
        "DAT_DG_FUEL_CONSUMPTION_MEM_IFE = 1000000\n",
        "DAT_DG_MEM_DISTANCE_IFE = 13000\n",
        "\n",
        "VAR_IFE_VALUE= ((DAT_DG_FUEL_CONSUMPTION_MEM_IFE*10**-3)/DAT_DG_MEM_DISTANCE_IFE)*100\n",
        "print(VAR_IFE_VALUE)"
      ],
      "metadata": {
        "colab": {
          "base_uri": "https://localhost:8080/"
        },
        "id": "pOUuj6ydcvKD",
        "outputId": "31f27e92-92e5-429d-d39b-4be5e1a1a52d"
      },
      "execution_count": 15,
      "outputs": [
        {
          "output_type": "stream",
          "name": "stdout",
          "text": [
            "7.6923076923076925\n"
          ]
        }
      ]
    },
    {
      "cell_type": "markdown",
      "source": [
        "## REQ-0883248 A"
      ],
      "metadata": {
        "id": "GdITVrYdLP8P"
      }
    },
    {
      "cell_type": "code",
      "source": [
        "DAT_DG_THRESHOLD_RESET_DISTANCE_IFE = 81\n",
        "DAT_DG_THRESHOLD_RST_FUEL_USED_IFE = 10\n",
        "\n",
        "if DAT_LI_ODOMETER > DAT_DG_THRESHOLD_RESET_DISTANCE_IFE and DAT_LI_GAUGE_FUEL_CONSUMPTION > DAT_DG_THRESHOLD_RST_FUEL_USED_IFE:\n",
        "  DAT_DG_FUEL_CONSUMPTION_MEM_IFE = DAT_DG_FUEL_CONSUMPTION_MEM_IFE /2\n",
        "  DAT_DG_MEM_DISTANCE_IFE = DAT_DG_MEM_DISTANCE_IFE /2\n"
      ],
      "metadata": {
        "id": "zLMvYycbLT2T"
      },
      "execution_count": 22,
      "outputs": []
    },
    {
      "cell_type": "markdown",
      "source": [
        "## REQ-0883249 A"
      ],
      "metadata": {
        "id": "gZ7ztvgF3pf3"
      }
    },
    {
      "cell_type": "code",
      "source": [
        "INTER_FUEL_LEVEL_REMAINING = 10\n",
        "DAT_DG_THRESHOLD_FUEL_LEVEL = 75\n",
        "\n",
        "\n",
        "VAR_FUEL_ECONOMY_FOR_RANGE = ((VAR_AVERAGE_FUEL_EFFICIENCY*(INTER_FUEL_LEVEL_REMAINING +\n",
        " (100-DAT_DG_THRESHOLD_FUEL_LEVEL))) + (VAR_IFE_VALUE *\n",
        "(DAT_DG_THRESHOLD_FUEL_LEVEL - INTER_FUEL_LEVEL_REMAINING)))/100\n",
        "\n",
        "print(VAR_FUEL_ECONOMY_FOR_RANGE)"
      ],
      "metadata": {
        "colab": {
          "base_uri": "https://localhost:8080/"
        },
        "id": "Onm_QMxO6bV6",
        "outputId": "8bef0262-56c1-45f9-b08a-5201ca86c85a"
      },
      "execution_count": 19,
      "outputs": [
        {
          "output_type": "stream",
          "name": "stdout",
          "text": [
            "7.916666666666666\n"
          ]
        }
      ]
    },
    {
      "cell_type": "markdown",
      "source": [
        "##REQ-0883250 A"
      ],
      "metadata": {
        "id": "Mwj3llozL-Ie"
      }
    },
    {
      "cell_type": "code",
      "source": [
        "DAT_DG_GAUGE_FUEL_TANK_CAPACITY = 44\n",
        "\n",
        "VAR_PCT_FUEL_LEVEL = (INTER_FUEL_LEVEL_REMAINING/ DAT_DG_GAUGE_FUEL_TANK_CAPACITY)*100"
      ],
      "metadata": {
        "id": "DgBmKdsUMEFf"
      },
      "execution_count": null,
      "outputs": []
    },
    {
      "cell_type": "markdown",
      "source": [
        "##REQ-0883251 A"
      ],
      "metadata": {
        "id": "FJmnbg6VMEmZ"
      }
    },
    {
      "cell_type": "code",
      "source": [
        "# SÓ FUNCIONA EM RUNNING\n",
        "VAR_NEW_DIST_DTE = DAT_LI_ODOMETER\n",
        "VAR_OLD_DIST_DTE = DAT_LI_ODOMETER\n",
        "VAR_INCREASING_DTE_DIST = 0\n",
        "VAR_DIST_DTE = 0\n",
        "DAT_DG_THRESHOLD_DIST_DTE = 500\n",
        "\n",
        "\n",
        "if VAR_DIST_DTE <= DAT_DG_THRESHOLD_DIST_DTE:\n",
        "  VAR_NEW_DIST_DTE = DAT_LI_ODOMETER\n",
        "\n",
        "  if VAR_OLD_DIST_DTE <= VAR_NEW_DIST_DTE:\n",
        "    VAR_INCREASING_DTE_DIST = VAR_NEW_DIST_DTE - VAR_OLD_DIST_DTE\n",
        "\n",
        "  else:\n",
        "    VAR_INCREASING_DTE_DIST = DAT_DG_MAX_DISTANCE_THRESHOLD - VAR_OLD_DIST_DTE + VAR_NEW_DIST_DTE\n",
        "\n",
        "\n",
        "  VAR_OLD_DIST_DTE = VAR_NEW_DIST_DTE\n",
        "  VAR_DIST_DTE = VAR_DIST_DTE + VAR_INCREASING_DTE_DIST\n"
      ],
      "metadata": {
        "id": "se8f4vcJMPoj"
      },
      "execution_count": 23,
      "outputs": []
    },
    {
      "cell_type": "markdown",
      "source": [
        "falta o final 52"
      ],
      "metadata": {
        "id": "i9hN05OYOK5S"
      }
    }
  ]
}